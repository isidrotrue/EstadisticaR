{
 "cells": [
  {
   "cell_type": "markdown",
   "metadata": {},
   "source": [
    "<div class=\"alert alert-info\">\n",
    "\n",
    "<h2>Tabla de doble entrada.</h2>\n",
    "\n",
    "</div>"
   ]
  },
  {
   "cell_type": "markdown",
   "metadata": {},
   "source": [
    "<div class=\"alert alert-warning\">\n",
    "\n",
    "Se pregunta a 10 personas por su sexo y su estado civil, obteniendo los siguientes resultados:\n",
    "\n",
    "$$\n",
    "(F,C), (M,C), (F,S),(F,S),(M,C), (M,S), (F,C),(M,S), (F,C)\n",
    "$$\n",
    "\n",
    "</div>"
   ]
  },
  {
   "cell_type": "markdown",
   "metadata": {},
   "source": [
    "- Introduce los datos en dos vectores."
   ]
  },
  {
   "cell_type": "code",
   "execution_count": 21,
   "metadata": {
    "collapsed": true
   },
   "outputs": [],
   "source": [
    "x = c(\"F\", \"M\", \"F\", \"F\", \"M\", \"M\", \"F\", \"M\", \"F\")\n",
    "y = c(\"C\", \"C\", \"S\", \"S\", \"C\", \"S\", \"C\", \"S\", \"C\")"
   ]
  },
  {
   "cell_type": "markdown",
   "metadata": {},
   "source": [
    "- Crea la tabla de doble entrada (o de contingencia), con la función **`table()`**."
   ]
  },
  {
   "cell_type": "markdown",
   "metadata": {},
   "source": [
    "- Crea la tabla en el otro orden."
   ]
  },
  {
   "cell_type": "markdown",
   "metadata": {},
   "source": [
    "- Crea una tabla de doble entrada y frecuencias relativas dividiendo entre el número de datos."
   ]
  }
 ],
 "metadata": {
  "kernelspec": {
   "display_name": "R",
   "language": "R",
   "name": "ir"
  },
  "language_info": {
   "codemirror_mode": "r",
   "file_extension": ".r",
   "mimetype": "text/x-r-source",
   "name": "R",
   "pygments_lexer": "r",
   "version": "3.6.1"
  }
 },
 "nbformat": 4,
 "nbformat_minor": 2
}

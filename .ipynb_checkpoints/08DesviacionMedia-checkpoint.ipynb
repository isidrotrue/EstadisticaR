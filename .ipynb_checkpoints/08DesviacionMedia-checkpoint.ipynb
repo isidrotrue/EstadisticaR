{
 "cells": [
  {
   "cell_type": "markdown",
   "metadata": {},
   "source": [
    "<div class=\"alert alert-info\">\n",
    "\n",
    "<h2>Desviación media.</h2>\n",
    "\n",
    "</div>"
   ]
  },
  {
   "cell_type": "markdown",
   "metadata": {},
   "source": [
    "<div class=\"alert alert-warning\">\n",
    "Se consideran los siguientes datos:\n",
    "$$\n",
    "32,34,25,23,56,12,34,23,28,21,31,23,34\n",
    "$$\n",
    "</div>"
   ]
  },
  {
   "cell_type": "markdown",
   "metadata": {},
   "source": [
    "- Calcula desviación media con la fórmula:\n",
    "\n",
    "$$\n",
    "\\frac{\\sum |x_i-\\overline{x}|}{n}\n",
    "$$\n",
    "\n",
    "Utiliza la función **`abs()`** para calcular el valor absoluto."
   ]
  },
  {
   "cell_type": "markdown",
   "metadata": {},
   "source": [
    "- Comprueba que si en la fórmula anterior eliminamos el valor absoluto el resultado de la operación es cero."
   ]
  },
  {
   "cell_type": "code",
   "execution_count": null,
   "metadata": {
    "collapsed": true
   },
   "outputs": [],
   "source": []
  }
 ],
 "metadata": {
  "kernelspec": {
   "display_name": "R",
   "language": "R",
   "name": "ir"
  },
  "language_info": {
   "codemirror_mode": "r",
   "file_extension": ".r",
   "mimetype": "text/x-r-source",
   "name": "R",
   "pygments_lexer": "r",
   "version": "3.6.1"
  }
 },
 "nbformat": 4,
 "nbformat_minor": 2
}

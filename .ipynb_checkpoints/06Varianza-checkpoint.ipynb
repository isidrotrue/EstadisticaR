{
 "cells": [
  {
   "cell_type": "markdown",
   "metadata": {},
   "source": [
    "<div class=\"alert alert-info\">\n",
    "\n",
    "<h2>Varianza.</h2>\n",
    "\n",
    "</div>"
   ]
  },
  {
   "cell_type": "markdown",
   "metadata": {},
   "source": [
    "<div class=\"alert alert-warning\">\n",
    "Se consideran los siguientes datos:\n",
    "$$\n",
    "32,34,25,23,56,12,34,23,28,21,31,23,34\n",
    "$$\n",
    "</div>"
   ]
  },
  {
   "cell_type": "markdown",
   "metadata": {},
   "source": [
    "- Calcula la media de los datos."
   ]
  },
  {
   "cell_type": "markdown",
   "metadata": {},
   "source": [
    "- Calcula la varianza usando la fórmula:\n",
    "\n",
    "$$\n",
    "\\sigma^2 = \\frac{\\sum(x_i-\\overline{x})^2}{n}\n",
    "$$"
   ]
  },
  {
   "cell_type": "markdown",
   "metadata": {},
   "source": [
    "- Calcula la varianza con la fórmula:\n",
    "\n",
    "$$\n",
    "\\sigma^2 = \\frac{\\sum (x_i)^2}{n}-(\\overline{x})^2\n",
    "$$"
   ]
  },
  {
   "cell_type": "markdown",
   "metadata": {},
   "source": [
    "- Calcula la varianza con la función **`var()`** y comprueba que dan distinto."
   ]
  },
  {
   "cell_type": "markdown",
   "metadata": {},
   "source": [
    "- Comprueba que la varianza calculada por R responde a la fórmula:\n",
    "\n",
    "$$\n",
    " \\frac{\\sum(x_i-\\overline{x})^2}{n-1}\n",
    "$$\n"
   ]
  },
  {
   "cell_type": "markdown",
   "metadata": {},
   "source": [
    "- Calcula la varianza usando las funciones **`var()`** y **`length()`**."
   ]
  },
  {
   "cell_type": "markdown",
   "metadata": {},
   "source": [
    "- Suma 5 a los datos, calcula la nueva varianza y comprueba que no ha cambiado."
   ]
  },
  {
   "cell_type": "markdown",
   "metadata": {},
   "source": [
    "- Multiplica los datos por 5 y calcula la nueva varianza. Comprueba que la varianza es ahora 25 veces mayor."
   ]
  },
  {
   "cell_type": "code",
   "execution_count": null,
   "metadata": {
    "collapsed": true
   },
   "outputs": [],
   "source": []
  }
 ],
 "metadata": {
  "kernelspec": {
   "display_name": "R",
   "language": "R",
   "name": "ir"
  },
  "language_info": {
   "codemirror_mode": "r",
   "file_extension": ".r",
   "mimetype": "text/x-r-source",
   "name": "R",
   "pygments_lexer": "r",
   "version": "3.6.1"
  }
 },
 "nbformat": 4,
 "nbformat_minor": 2
}

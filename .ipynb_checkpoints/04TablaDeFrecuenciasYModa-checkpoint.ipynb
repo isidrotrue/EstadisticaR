{
 "cells": [
  {
   "cell_type": "markdown",
   "metadata": {},
   "source": [
    "<div class=\"alert alert-info\">\n",
    "\n",
    "<h2>Tabla de frecuencias y moda.</h2>\n",
    "\n",
    "</div>"
   ]
  },
  {
   "cell_type": "markdown",
   "metadata": {},
   "source": [
    "<div class=\"alert alert-warning\">\n",
    "En una encuesta sobre el estado civil los datos son:\n",
    "$$\n",
    "C,S,S,C,S,S,S,V,C,S,S,D,C,C\n",
    "$$\n",
    "</div>"
   ]
  },
  {
   "cell_type": "markdown",
   "metadata": {},
   "source": [
    "- Introduce los datos en un vector. Recuerda que debes escribir las letras entre comillas."
   ]
  },
  {
   "cell_type": "code",
   "execution_count": 2,
   "metadata": {},
   "outputs": [],
   "source": [
    "datos = c(\"C\", \"S\", \"S\", \"C\", \"S\", \"S\", \"S\",\n",
    "        \"V\", \"C\", \"S\", \"S\", \"D\", \"C\", \"C\")"
   ]
  },
  {
   "cell_type": "markdown",
   "metadata": {},
   "source": [
    "- Haz una tabla de frecuencias con la función **`table()`**."
   ]
  },
  {
   "cell_type": "markdown",
   "metadata": {},
   "source": [
    "- Ordena la tabla con la función **`sort()`** y calcula la moda."
   ]
  },
  {
   "cell_type": "markdown",
   "metadata": {
    "collapsed": true
   },
   "source": [
    "- Calcula la tabla de frecuencias relativas dividiendo entre el número de datos."
   ]
  },
  {
   "cell_type": "markdown",
   "metadata": {},
   "source": [
    "- Calcula la tabla de porcentajes multiplicando por 100."
   ]
  },
  {
   "cell_type": "markdown",
   "metadata": {},
   "source": [
    "- Si aplicamos la función **`sum()`** a una tabla de frecuencias nos suma todos los elementos. Suma los elementos de la tablas anteriores."
   ]
  },
  {
   "cell_type": "markdown",
   "metadata": {},
   "source": [
    "- Si aplicamos la función **`addmargins`** a una tabla también nos suma las frecuencias de la tabla."
   ]
  },
  {
   "cell_type": "markdown",
   "metadata": {},
   "source": [
    "- Calcula la tabla de frecuencias acumuladas usando la función **`cumsum()`**.\n",
    "\n",
    "| x | f |\n",
    "|---|---|\n",
    "| 3 | 4 |\n",
    "| 5 | 4 |\n",
    "| 6 | 9 |\n",
    "| 7 | 9 |"
   ]
  },
  {
   "cell_type": "markdown",
   "metadata": {},
   "source": [
    "- Calcula la tabla de frecuencias acumuladas relativas dividiendo entre el número de datos."
   ]
  },
  {
   "cell_type": "markdown",
   "metadata": {},
   "source": [
    "- Se consideran los siguientes datos:\n",
    "\n",
    "$$\n",
    "16.46, 17.02, 18.61, 19.44, 17.02, 20.22, 15.84, 20, 22.9, 18.3, 18.9,\n",
    "17.4, 17.6, 18, 17.98, 17.82, 17.42, 19.47, 18.52, 19.9, 20.01, 16.87, 17.3, 15.41, 17.05, 18.9, 16.7, 16.9, 14.5, 15.5, 14.6, 18.6\n",
    "$$"
   ]
  },
  {
   "cell_type": "markdown",
   "metadata": {},
   "source": [
    "- Divide en 5 intervalos y crea una tabla de frecuencias. Utiliza la función **`cut()`** para agrupar en 5 intervalos los valores."
   ]
  },
  {
   "cell_type": "code",
   "execution_count": null,
   "metadata": {},
   "outputs": [],
   "source": []
  }
 ],
 "metadata": {
  "kernelspec": {
   "display_name": "R",
   "language": "R",
   "name": "ir"
  },
  "language_info": {
   "codemirror_mode": "r",
   "file_extension": ".r",
   "mimetype": "text/x-r-source",
   "name": "R",
   "pygments_lexer": "r",
   "version": "3.6.1"
  }
 },
 "nbformat": 4,
 "nbformat_minor": 2
}

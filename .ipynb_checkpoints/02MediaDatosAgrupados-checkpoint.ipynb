{
 "cells": [
  {
   "cell_type": "markdown",
   "metadata": {},
   "source": [
    "<div class=\"alert alert-info\">\n",
    "\n",
    "<h2>Media de datos agrupados.</h2>\n",
    "\n",
    "</div>"
   ]
  },
  {
   "cell_type": "markdown",
   "metadata": {},
   "source": [
    "- Construye un vector  con el número 1 repetido 20 veces. Utiliza la función **`rep()`**."
   ]
  },
  {
   "cell_type": "markdown",
   "metadata": {},
   "source": [
    "- Introduce los datos de la siguiente tabla en un vector:\n",
    "\n",
    "| x | f |\n",
    "|---|---|\n",
    "| 3 | 4 |\n",
    "| 5 | 4 |\n",
    "| 6 | 9 |\n",
    "| 7 | 9 |"
   ]
  },
  {
   "cell_type": "markdown",
   "metadata": {},
   "source": [
    "- Calcula el número de elementos del vector."
   ]
  },
  {
   "cell_type": "markdown",
   "metadata": {},
   "source": [
    "- Calcula la media de los datos contenidos en la tabla."
   ]
  },
  {
   "cell_type": "markdown",
   "metadata": {
    "collapsed": true
   },
   "source": [
    "- Guarda los datos en una variable $x$ y las frecuencias en una variable $f$. Calcula la media con la fórmula:\n",
    "\n",
    "$$\n",
    "\\overline{x} = \\frac{\\sum x_i f_i}{\\sum f_i}\n",
    "$$"
   ]
  },
  {
   "cell_type": "code",
   "execution_count": null,
   "metadata": {},
   "outputs": [],
   "source": []
  }
 ],
 "metadata": {
  "kernelspec": {
   "display_name": "R",
   "language": "R",
   "name": "ir"
  },
  "language_info": {
   "codemirror_mode": "r",
   "file_extension": ".r",
   "mimetype": "text/x-r-source",
   "name": "R",
   "pygments_lexer": "r",
   "version": "3.6.1"
  }
 },
 "nbformat": 4,
 "nbformat_minor": 2
}

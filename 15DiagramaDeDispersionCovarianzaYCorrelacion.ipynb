{
 "cells": [
  {
   "cell_type": "markdown",
   "metadata": {},
   "source": [
    "<div class=\"alert alert-info\">\n",
    "\n",
    "<h2>Diagrama de dispersión, covarianza y correlación.</h2>\n",
    "\n",
    "</div>"
   ]
  },
  {
   "cell_type": "markdown",
   "metadata": {},
   "source": [
    "- Dibuja el diagrama de dispersión de las dos primeras columnas de la base de datos **`iris`**. Utiliza la función **`plot`**."
   ]
  },
  {
   "cell_type": "markdown",
   "metadata": {},
   "source": [
    "- Calcula la covarianza entre ambas variables con la fórmula:\n",
    "\n",
    "$$\n",
    "cov(x,y) = \\frac{\\sum (x_i-\\overline{x})(y_i-\\overline{y})}{n}\n",
    "$$"
   ]
  },
  {
   "cell_type": "markdown",
   "metadata": {},
   "source": [
    "- Calcula la covarianza con la fórmula:\n",
    "\n",
    "$$\n",
    "cov(x,y) = \\frac{\\sum x_iy_i}{n} - \\overline{x}\\cdot \\overline{y}\n",
    "$$"
   ]
  },
  {
   "cell_type": "markdown",
   "metadata": {},
   "source": [
    "- Calcula la covarianza con la función **`cov()`** y comprueba que dan distinto."
   ]
  },
  {
   "cell_type": "markdown",
   "metadata": {},
   "source": [
    "- Comprueba que la covarianza que calcula R corresponde a la fórmula:\n",
    "\n",
    "$$\n",
    "\\frac{\\sum (x_i-\\overline{x})(y_i-\\overline{y})}{n-1}\n",
    "$$"
   ]
  },
  {
   "cell_type": "markdown",
   "metadata": {},
   "source": [
    "- Calcula la covarianza utilizando **`cov()`**  y **`length()`**"
   ]
  },
  {
   "cell_type": "markdown",
   "metadata": {},
   "source": [
    "- Calcula el coeficiente de correlación con la función **`cor()`**."
   ]
  },
  {
   "cell_type": "code",
   "execution_count": null,
   "metadata": {},
   "outputs": [],
   "source": []
  }
 ],
 "metadata": {
  "kernelspec": {
   "display_name": "R",
   "language": "R",
   "name": "ir"
  },
  "language_info": {
   "codemirror_mode": "r",
   "file_extension": ".r",
   "mimetype": "text/x-r-source",
   "name": "R",
   "pygments_lexer": "r",
   "version": "3.6.1"
  }
 },
 "nbformat": 4,
 "nbformat_minor": 4
}

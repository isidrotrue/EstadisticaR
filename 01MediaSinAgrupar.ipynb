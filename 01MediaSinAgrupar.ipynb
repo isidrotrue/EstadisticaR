{
 "cells": [
  {
   "cell_type": "markdown",
   "metadata": {},
   "source": [
    "<div class=\"alert alert-info\">\n",
    "\n",
    "<h2>Media de datos sin agrupar.</h2>\n",
    "\n",
    "</div>"
   ]
  },
  {
   "cell_type": "markdown",
   "metadata": {},
   "source": [
    "<div class=\"alert alert-warning\">\n",
    "Se consideran los siguientes datos:\n",
    "$$\n",
    "32,34,25,23,56,12,34,23,28,21,31,23,34\n",
    "$$\n",
    "</div>"
   ]
  },
  {
   "cell_type": "markdown",
   "metadata": {},
   "source": [
    "- Introduce los datos en un vector con la función **`c()`**."
   ]
  },
  {
   "cell_type": "code",
   "execution_count": 19,
   "metadata": {},
   "outputs": [
    {
     "data": {
      "text/html": [
       "<ol class=list-inline>\n",
       "\t<li>32</li>\n",
       "\t<li>34</li>\n",
       "\t<li>25</li>\n",
       "\t<li>23</li>\n",
       "\t<li>56</li>\n",
       "\t<li>12</li>\n",
       "\t<li>34</li>\n",
       "\t<li>23</li>\n",
       "\t<li>28</li>\n",
       "\t<li>21</li>\n",
       "\t<li>31</li>\n",
       "\t<li>23</li>\n",
       "\t<li>34</li>\n",
       "</ol>\n"
      ],
      "text/latex": [
       "\\begin{enumerate*}\n",
       "\\item 32\n",
       "\\item 34\n",
       "\\item 25\n",
       "\\item 23\n",
       "\\item 56\n",
       "\\item 12\n",
       "\\item 34\n",
       "\\item 23\n",
       "\\item 28\n",
       "\\item 21\n",
       "\\item 31\n",
       "\\item 23\n",
       "\\item 34\n",
       "\\end{enumerate*}\n"
      ],
      "text/markdown": [
       "1. 32\n",
       "2. 34\n",
       "3. 25\n",
       "4. 23\n",
       "5. 56\n",
       "6. 12\n",
       "7. 34\n",
       "8. 23\n",
       "9. 28\n",
       "10. 21\n",
       "11. 31\n",
       "12. 23\n",
       "13. 34\n",
       "\n",
       "\n"
      ],
      "text/plain": [
       " [1] 32 34 25 23 56 12 34 23 28 21 31 23 34"
      ]
     },
     "metadata": {},
     "output_type": "display_data"
    }
   ],
   "source": [
    "x = c(32,34,25,23,56,12,34,23,28,21,31,23,34)\n",
    "x"
   ]
  },
  {
   "cell_type": "markdown",
   "metadata": {},
   "source": [
    "- Calcula la media con la función **`mean()`**."
   ]
  },
  {
   "cell_type": "code",
   "execution_count": 20,
   "metadata": {},
   "outputs": [
    {
     "data": {
      "text/html": [
       "28.9230769230769"
      ],
      "text/latex": [
       "28.9230769230769"
      ],
      "text/markdown": [
       "28.9230769230769"
      ],
      "text/plain": [
       "[1] 28.92308"
      ]
     },
     "metadata": {},
     "output_type": "display_data"
    }
   ],
   "source": [
    "mean(x)"
   ]
  },
  {
   "cell_type": "markdown",
   "metadata": {},
   "source": [
    "- Suma todos los datos con la función **`sum()`**."
   ]
  },
  {
   "cell_type": "code",
   "execution_count": 21,
   "metadata": {},
   "outputs": [
    {
     "data": {
      "text/html": [
       "376"
      ],
      "text/latex": [
       "376"
      ],
      "text/markdown": [
       "376"
      ],
      "text/plain": [
       "[1] 376"
      ]
     },
     "metadata": {},
     "output_type": "display_data"
    }
   ],
   "source": [
    "sum(x)"
   ]
  },
  {
   "cell_type": "markdown",
   "metadata": {},
   "source": [
    "- Calcula el número de datos con la función **`length()`**."
   ]
  },
  {
   "cell_type": "code",
   "execution_count": 22,
   "metadata": {},
   "outputs": [
    {
     "data": {
      "text/html": [
       "13"
      ],
      "text/latex": [
       "13"
      ],
      "text/markdown": [
       "13"
      ],
      "text/plain": [
       "[1] 13"
      ]
     },
     "metadata": {},
     "output_type": "display_data"
    }
   ],
   "source": [
    "length(x)"
   ]
  },
  {
   "cell_type": "markdown",
   "metadata": {},
   "source": [
    "- Calcula la media aplicando la fórmula:\n",
    "\n",
    "$$\n",
    "\\overline{x} = \\frac{\\sum x_i}{n}\n",
    "$$"
   ]
  },
  {
   "cell_type": "code",
   "execution_count": 23,
   "metadata": {},
   "outputs": [
    {
     "data": {
      "text/html": [
       "28.9230769230769"
      ],
      "text/latex": [
       "28.9230769230769"
      ],
      "text/markdown": [
       "28.9230769230769"
      ],
      "text/plain": [
       "[1] 28.92308"
      ]
     },
     "metadata": {},
     "output_type": "display_data"
    }
   ],
   "source": [
    "sum(x) / length(x)"
   ]
  },
  {
   "cell_type": "markdown",
   "metadata": {},
   "source": [
    "- Suma 4 a cada valor y calcula la media de los nuevos datos."
   ]
  },
  {
   "cell_type": "code",
   "execution_count": 25,
   "metadata": {},
   "outputs": [
    {
     "data": {
      "text/html": [
       "32.9230769230769"
      ],
      "text/latex": [
       "32.9230769230769"
      ],
      "text/markdown": [
       "32.9230769230769"
      ],
      "text/plain": [
       "[1] 32.92308"
      ]
     },
     "metadata": {},
     "output_type": "display_data"
    }
   ],
   "source": [
    "y = x + 4\n",
    "mean(y)"
   ]
  },
  {
   "cell_type": "markdown",
   "metadata": {},
   "source": [
    "- Multiplica los datos por 10 y calcula la media de los nuevos datos."
   ]
  },
  {
   "cell_type": "code",
   "execution_count": 27,
   "metadata": {},
   "outputs": [
    {
     "data": {
      "text/html": [
       "289.230769230769"
      ],
      "text/latex": [
       "289.230769230769"
      ],
      "text/markdown": [
       "289.230769230769"
      ],
      "text/plain": [
       "[1] 289.2308"
      ]
     },
     "metadata": {},
     "output_type": "display_data"
    }
   ],
   "source": [
    "z = 10 * x\n",
    "mean(z)"
   ]
  },
  {
   "cell_type": "code",
   "execution_count": null,
   "metadata": {},
   "outputs": [],
   "source": []
  }
 ],
 "metadata": {
  "kernelspec": {
   "display_name": "R",
   "language": "R",
   "name": "ir"
  },
  "language_info": {
   "codemirror_mode": "r",
   "file_extension": ".r",
   "mimetype": "text/x-r-source",
   "name": "R",
   "pygments_lexer": "r",
   "version": "3.6.1"
  }
 },
 "nbformat": 4,
 "nbformat_minor": 2
}

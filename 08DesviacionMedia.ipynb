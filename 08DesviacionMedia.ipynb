{
 "cells": [
  {
   "cell_type": "markdown",
   "metadata": {},
   "source": [
    "<div class=\"alert alert-info\">\n",
    "\n",
    "<h2>Desviación media.</h2>\n",
    "\n",
    "</div>"
   ]
  },
  {
   "cell_type": "markdown",
   "metadata": {},
   "source": [
    "<div class=\"alert alert-warning\">\n",
    "Se consideran los siguientes datos:\n",
    "$$\n",
    "32,34,25,23,56,12,34,23,28,21,31,23,34\n",
    "$$\n",
    "</div>"
   ]
  },
  {
   "cell_type": "code",
   "execution_count": 2,
   "metadata": {},
   "outputs": [],
   "source": [
    "x = c(32,34,25,23,56,12,34,23,28,21,31,23,34)\n",
    "m = mean(x)\n",
    "n = length(x)"
   ]
  },
  {
   "cell_type": "markdown",
   "metadata": {},
   "source": [
    "- Calcula desviación media con la fórmula:\n",
    "\n",
    "$$\n",
    "\\frac{\\sum |x_i-\\overline{x}|}{n}\n",
    "$$\n",
    "\n",
    "Utiliza la función **`abs()`** para calcular el valor absoluto."
   ]
  },
  {
   "cell_type": "code",
   "execution_count": 6,
   "metadata": {},
   "outputs": [
    {
     "data": {
      "text/html": [
       "7.30177514792899"
      ],
      "text/latex": [
       "7.30177514792899"
      ],
      "text/markdown": [
       "7.30177514792899"
      ],
      "text/plain": [
       "[1] 7.301775"
      ]
     },
     "metadata": {},
     "output_type": "display_data"
    }
   ],
   "source": [
    "mean(abs(x - m))"
   ]
  },
  {
   "cell_type": "markdown",
   "metadata": {},
   "source": [
    "- Comprueba que si en la fórmula anterior eliminamos el valor absoluto el resultado de la operación es cero."
   ]
  },
  {
   "cell_type": "code",
   "execution_count": 7,
   "metadata": {},
   "outputs": [
    {
     "data": {
      "text/html": [
       "-2.73218947466347e-16"
      ],
      "text/latex": [
       "-2.73218947466347e-16"
      ],
      "text/markdown": [
       "-2.73218947466347e-16"
      ],
      "text/plain": [
       "[1] -2.732189e-16"
      ]
     },
     "metadata": {},
     "output_type": "display_data"
    }
   ],
   "source": [
    "mean(x - m)"
   ]
  },
  {
   "cell_type": "code",
   "execution_count": null,
   "metadata": {},
   "outputs": [],
   "source": []
  }
 ],
 "metadata": {
  "kernelspec": {
   "display_name": "R",
   "language": "R",
   "name": "ir"
  },
  "language_info": {
   "codemirror_mode": "r",
   "file_extension": ".r",
   "mimetype": "text/x-r-source",
   "name": "R",
   "pygments_lexer": "r",
   "version": "3.6.1"
  }
 },
 "nbformat": 4,
 "nbformat_minor": 2
}

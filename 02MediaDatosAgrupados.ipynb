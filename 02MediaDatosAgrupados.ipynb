{
 "cells": [
  {
   "cell_type": "markdown",
   "metadata": {},
   "source": [
    "<div class=\"alert alert-info\">\n",
    "\n",
    "<h2>Media de datos agrupados.</h2>\n",
    "\n",
    "</div>"
   ]
  },
  {
   "cell_type": "markdown",
   "metadata": {},
   "source": [
    "<div class=\"alert alert-warning\">\n",
    "    \n",
    "Consideramos la siguiente tabla de frecuencias:\n",
    "\n",
    "| x | f |\n",
    "|---|---|\n",
    "| 3 | 7 |\n",
    "| 5 | 4 |\n",
    "| 6 | 6 |\n",
    "| 7 | 9 |\n",
    "    \n",
    "</div>\n"
   ]
  },
  {
   "cell_type": "markdown",
   "metadata": {},
   "source": [
    "\n",
    "- Guarda los datos en una variable $x$ y las frecuencias en una variable $f$. Calcula la media con la fórmula:\n",
    "\n",
    "$$\n",
    "\\overline{x} = \\frac{\\sum x_i f_i}{\\sum f_i}\n",
    "$$"
   ]
  },
  {
   "cell_type": "code",
   "execution_count": 3,
   "metadata": {},
   "outputs": [
    {
     "data": {
      "text/html": [
       "5.38461538461539"
      ],
      "text/latex": [
       "5.38461538461539"
      ],
      "text/markdown": [
       "5.38461538461539"
      ],
      "text/plain": [
       "[1] 5.384615"
      ]
     },
     "metadata": {},
     "output_type": "display_data"
    }
   ],
   "source": [
    "x = c(3,5,6,7)\n",
    "f = c(7,4,6,9)\n",
    "sum(x * f) / sum(f)"
   ]
  },
  {
   "cell_type": "markdown",
   "metadata": {},
   "source": [
    "- Construye un vector  con el número 1 repetido 20 veces. Utiliza la función **`rep()`**.  Introduce los datos de la tabla en un vector y calcula la media."
   ]
  },
  {
   "cell_type": "code",
   "execution_count": 6,
   "metadata": {},
   "outputs": [
    {
     "data": {
      "text/html": [
       "5.38461538461539"
      ],
      "text/latex": [
       "5.38461538461539"
      ],
      "text/markdown": [
       "5.38461538461539"
      ],
      "text/plain": [
       "[1] 5.384615"
      ]
     },
     "metadata": {},
     "output_type": "display_data"
    }
   ],
   "source": [
    "y <- c(rep(3,7),rep(5,4), rep(6,6), 7,7,7,7,7,7,7,7,7)\n",
    "mean(y)"
   ]
  },
  {
   "cell_type": "code",
   "execution_count": null,
   "metadata": {},
   "outputs": [],
   "source": []
  }
 ],
 "metadata": {
  "kernelspec": {
   "display_name": "R",
   "language": "R",
   "name": "ir"
  },
  "language_info": {
   "codemirror_mode": "r",
   "file_extension": ".r",
   "mimetype": "text/x-r-source",
   "name": "R",
   "pygments_lexer": "r",
   "version": "3.6.1"
  }
 },
 "nbformat": 4,
 "nbformat_minor": 2
}

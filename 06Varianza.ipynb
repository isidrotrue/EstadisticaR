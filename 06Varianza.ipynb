{
 "cells": [
  {
   "cell_type": "markdown",
   "metadata": {},
   "source": [
    "<div class=\"alert alert-info\">\n",
    "\n",
    "<h2>Varianza.</h2>\n",
    "\n",
    "</div>"
   ]
  },
  {
   "cell_type": "markdown",
   "metadata": {},
   "source": [
    "<div class=\"alert alert-warning\">\n",
    "Se consideran los siguientes datos:\n",
    "$$\n",
    "32,34,25,23,56,12,34,23,28,21,31,23,34\n",
    "$$\n",
    "</div>"
   ]
  },
  {
   "cell_type": "markdown",
   "metadata": {},
   "source": [
    "- Calcula la media de los datos y el número de datos."
   ]
  },
  {
   "cell_type": "code",
   "execution_count": 14,
   "metadata": {},
   "outputs": [],
   "source": [
    "x = c(32,34,25,23,56,12,34,23,28,21,31,23,34)\n",
    "m = mean(x)\n",
    "n = length(x)"
   ]
  },
  {
   "cell_type": "markdown",
   "metadata": {},
   "source": [
    "- Calcula la varianza usando la fórmula:\n",
    "\n",
    "$$\n",
    "\\sigma^2 = \\frac{\\sum(x_i-\\overline{x})^2}{n}\n",
    "$$"
   ]
  },
  {
   "cell_type": "code",
   "execution_count": 18,
   "metadata": {},
   "outputs": [
    {
     "data": {
      "text/html": [
       "99.6094674556213"
      ],
      "text/latex": [
       "99.6094674556213"
      ],
      "text/markdown": [
       "99.6094674556213"
      ],
      "text/plain": [
       "[1] 99.60947"
      ]
     },
     "metadata": {},
     "output_type": "display_data"
    }
   ],
   "source": [
    "sum((x - m)^2) / n"
   ]
  },
  {
   "cell_type": "markdown",
   "metadata": {},
   "source": [
    "- Calcula la varianza con la fórmula:\n",
    "\n",
    "$$\n",
    "\\sigma^2 = \\frac{\\sum (x_i)^2}{n}-(\\overline{x})^2\n",
    "$$"
   ]
  },
  {
   "cell_type": "code",
   "execution_count": 22,
   "metadata": {},
   "outputs": [
    {
     "data": {
      "text/html": [
       "99.6094674556214"
      ],
      "text/latex": [
       "99.6094674556214"
      ],
      "text/markdown": [
       "99.6094674556214"
      ],
      "text/plain": [
       "[1] 99.60947"
      ]
     },
     "metadata": {},
     "output_type": "display_data"
    }
   ],
   "source": [
    "sum(x^2) / n - m^2"
   ]
  },
  {
   "cell_type": "markdown",
   "metadata": {},
   "source": [
    "- Calcula la varianza con la función **`var()`** y comprueba que dan distinto."
   ]
  },
  {
   "cell_type": "code",
   "execution_count": 23,
   "metadata": {},
   "outputs": [
    {
     "data": {
      "text/html": [
       "107.910256410256"
      ],
      "text/latex": [
       "107.910256410256"
      ],
      "text/markdown": [
       "107.910256410256"
      ],
      "text/plain": [
       "[1] 107.9103"
      ]
     },
     "metadata": {},
     "output_type": "display_data"
    }
   ],
   "source": [
    "var(x)"
   ]
  },
  {
   "cell_type": "markdown",
   "metadata": {},
   "source": [
    "- Comprueba que la varianza calculada por R responde a la fórmula:\n",
    "\n",
    "$$\n",
    " \\frac{\\sum(x_i-\\overline{x})^2}{n-1}\n",
    "$$\n"
   ]
  },
  {
   "cell_type": "code",
   "execution_count": 24,
   "metadata": {},
   "outputs": [
    {
     "data": {
      "text/html": [
       "107.910256410256"
      ],
      "text/latex": [
       "107.910256410256"
      ],
      "text/markdown": [
       "107.910256410256"
      ],
      "text/plain": [
       "[1] 107.9103"
      ]
     },
     "metadata": {},
     "output_type": "display_data"
    }
   ],
   "source": [
    "sum((x - m)^2) / (n - 1)"
   ]
  },
  {
   "cell_type": "markdown",
   "metadata": {},
   "source": [
    "- Calcula la varianza usando las funciones **`var()`** y **`length()`**."
   ]
  },
  {
   "cell_type": "code",
   "execution_count": 28,
   "metadata": {},
   "outputs": [
    {
     "data": {
      "text/html": [
       "99.6094674556213"
      ],
      "text/latex": [
       "99.6094674556213"
      ],
      "text/markdown": [
       "99.6094674556213"
      ],
      "text/plain": [
       "[1] 99.60947"
      ]
     },
     "metadata": {},
     "output_type": "display_data"
    }
   ],
   "source": [
    "(n-1) * var(x) / n"
   ]
  },
  {
   "cell_type": "markdown",
   "metadata": {},
   "source": [
    "- Suma 5 a los datos, calcula la nueva varianza y comprueba que no ha cambiado."
   ]
  },
  {
   "cell_type": "code",
   "execution_count": 30,
   "metadata": {},
   "outputs": [
    {
     "data": {
      "text/html": [
       "99.6094674556213"
      ],
      "text/latex": [
       "99.6094674556213"
      ],
      "text/markdown": [
       "99.6094674556213"
      ],
      "text/plain": [
       "[1] 99.60947"
      ]
     },
     "metadata": {},
     "output_type": "display_data"
    }
   ],
   "source": [
    "y = x + 5\n",
    "(n-1) * var(y) / n"
   ]
  },
  {
   "cell_type": "markdown",
   "metadata": {},
   "source": [
    "- Multiplica los datos por 5 y calcula la nueva varianza. Comprueba que la varianza es ahora 25 veces mayor."
   ]
  },
  {
   "cell_type": "code",
   "execution_count": 33,
   "metadata": {},
   "outputs": [
    {
     "data": {
      "text/html": [
       "99.6094674556213"
      ],
      "text/latex": [
       "99.6094674556213"
      ],
      "text/markdown": [
       "99.6094674556213"
      ],
      "text/plain": [
       "[1] 99.60947"
      ]
     },
     "metadata": {},
     "output_type": "display_data"
    }
   ],
   "source": [
    "z = x * 5\n",
    "((n-1) * var(z) / n) / 25"
   ]
  },
  {
   "cell_type": "code",
   "execution_count": null,
   "metadata": {},
   "outputs": [],
   "source": []
  }
 ],
 "metadata": {
  "kernelspec": {
   "display_name": "R",
   "language": "R",
   "name": "ir"
  },
  "language_info": {
   "codemirror_mode": "r",
   "file_extension": ".r",
   "mimetype": "text/x-r-source",
   "name": "R",
   "pygments_lexer": "r",
   "version": "3.6.1"
  }
 },
 "nbformat": 4,
 "nbformat_minor": 2
}
